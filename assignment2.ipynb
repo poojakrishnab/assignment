{
 "cells": [
  {
   "cell_type": "markdown",
   "metadata": {},
   "source": [
    "# Task 1:\n",
    "## 1.1  Write a Python Program to implement your own myreduce() function which works exactly like Python's built-in function reduce()"
   ]
  },
  {
   "cell_type": "code",
   "execution_count": 17,
   "metadata": {},
   "outputs": [
    {
     "name": "stdout",
     "output_type": "stream",
     "text": [
      "sum is : 10\n"
     ]
    }
   ],
   "source": [
    "def reduce_func(func,sequence):\n",
    "    \n",
    "    result=sequence[0]\n",
    "    for i in sequence[1:]:\n",
    "        result=func(result,i)\n",
    "\n",
    "    return result\n",
    "\n",
    "def func_sum(x,y):\n",
    "    return x+y\n",
    "\n",
    "print(\"sum is : \"+str(reduce_func(func_sum,[1,2,3,4])))"
   ]
  },
  {
   "cell_type": "markdown",
   "metadata": {},
   "source": [
    "## 1.2 Write a Python program to implement your own myfilter() function which works exactly likePython's built-in function filter()"
   ]
  },
  {
   "cell_type": "code",
   "execution_count": 47,
   "metadata": {},
   "outputs": [
    {
     "name": "stdout",
     "output_type": "stream",
     "text": [
      "sqr of the num is :[2, 4, 6]\n"
     ]
    }
   ],
   "source": [
    "def filter_func(afunc,sequence):\n",
    "    a=[]\n",
    "    for i in sequence:\n",
    "        if afunc(i):\n",
    "            a.append(i)\n",
    "    return a\n",
    "\n",
    "def div2(x):\n",
    "    if x%2==0:\n",
    "        return True\n",
    "    else:\n",
    "        return False\n",
    "\n",
    "print(\"sqr of the num is :\"+str(filter_func(div2,[2,1,5,13,4,6,])))"
   ]
  },
  {
   "cell_type": "markdown",
   "metadata": {},
   "source": [
    "## 2. Implement List comprehensions to produce the following lists.Write List comprehensions to produce the following Lists\n",
    "#### ['A', 'C', 'A', 'D', 'G', 'I', ’L’, ‘ D’]\n",
    "#### ['x', 'xx', 'xxx', 'xxxx', 'y', 'yy', 'yyy', 'yyyy', 'z', 'zz', 'zzz', 'zzzz']\n",
    "#### ['x', 'y', 'z', 'xx', 'yy', 'zz', 'xx', 'yy', 'zz', 'xxxx', 'yyyy', 'zzzz']\n",
    "\n",
    "#### [[2], [3], [4], [3], [4], [5], [4], [5], [6]]\n",
    "#### [[2, 3, 4, 5], [3, 4, 5, 6], [4, 5, 6, 7], [5, 6, 7, 8]]\n",
    "#### [(1, 1), (2, 1), (3, 1), (1, 2), (2, 2), (3, 2), (1, 3), (2, 3), (3, 3)]"
   ]
  },
  {
   "cell_type": "code",
   "execution_count": 113,
   "metadata": {},
   "outputs": [
    {
     "name": "stdout",
     "output_type": "stream",
     "text": [
      "['A', 'C', 'A', 'D', 'G', 'I', 'L', 'D'] \n",
      "\n",
      "['x', 'xx', 'xxx', 'xxxx', 'y', 'yy', 'yyy', 'yyyy', 'z', 'zz', 'zzz', 'zzzz'] \n",
      "\n",
      "['x', 'y', 'z', 'xx', 'yy', 'zz', 'xxx', 'yyy', 'zzz', 'xxxx', 'yyyy', 'zzzz']\n",
      "\n",
      "\n",
      "[[2], [3], [4], [3], [4], [5], [4], [5], [6]] \n",
      "\n",
      "[[2, 3, 4, 5], [3, 4, 5, 6], [4, 5, 6, 7], [5, 6, 7, 8]] \n",
      "\n",
      "[(1, 1), (2, 1), (3, 1), (1, 2), (2, 2), (3, 2), (1, 3), (2, 3), (3, 3)]\n"
     ]
    }
   ],
   "source": [
    "word=\"ACADGILD\"\n",
    "a=[i for i in word]\n",
    "print(a,\"\\n\")\n",
    "\n",
    "list1=['x','y','z']\n",
    "print([i*num for i in list1 for num in range (1,5)],\"\\n\")\n",
    "\n",
    "\n",
    "print([i*num for num in range(1,5) for i in list1])\n",
    "print(\"\\n\")\n",
    "\n",
    "list2=[2,3,4]\n",
    "print([[i+num] for i in list2 for num in range(0,3)],\"\\n\")\n",
    "\n",
    "list3=[2,3,4,5]\n",
    "print([[item +num for item in list3]for num in range(0,4)],\"\\n\")\n",
    "\n",
    "list4=[1,2,3]\n",
    "print([(b,a) for a in range(1,4) for b in list4])\n",
    "\n"
   ]
  },
  {
   "cell_type": "markdown",
   "metadata": {},
   "source": [
    "## 3. Implement a function longestWord() that takes a list of words and returns the longest one."
   ]
  },
  {
   "cell_type": "code",
   "execution_count": 122,
   "metadata": {},
   "outputs": [
    {
     "name": "stdout",
     "output_type": "stream",
     "text": [
      "poojakrishna\n"
     ]
    }
   ],
   "source": [
    "def longestword(words):\n",
    "    a=[]\n",
    "    for i in words:\n",
    "        a.append((len(i),i))\n",
    "        a.sort()\n",
    "    return a[-1][1]\n",
    "print(longestword([\"pooja\",\"pooja bk\",\"poojakrishna\"]))"
   ]
  },
  {
   "cell_type": "markdown",
   "metadata": {},
   "source": [
    "# Task 2:\n",
    "## 1.1 Write a Python Program(with class concepts) to find the area of the triangle using the belowformula.\n",
    "#### area = (s*(s-a)*(s-b)*(s-c)) ** 0.5\n",
    "#### Function to take the length of the sides of triangle from user should be defined in the parent\n",
    "#### class and function to calculate the area should be defined in subclass."
   ]
  },
  {
   "cell_type": "code",
   "execution_count": 18,
   "metadata": {},
   "outputs": [
    {
     "name": "stdout",
     "output_type": "stream",
     "text": [
      "enter a: 24\n",
      "enter b: 22\n",
      "enter c: 32\n",
      "263.84654631054013\n"
     ]
    }
   ],
   "source": [
    "a=float(input(\"enter a: \"))\n",
    "b=float(input(\"enter b: \"))\n",
    "c=float(input(\"enter c: \"))\n",
    "\n",
    "class traingle:\n",
    "    def __init__(self,a,b,c):\n",
    "        self.a=a\n",
    "        self.b=b\n",
    "        self.c=c\n",
    "    \n",
    "    def area(self):\n",
    "        s=(a + b + c) / 2\n",
    "        area=(s*(s-a)*(s-b)*(s-c))**0.5\n",
    "        return area\n",
    "    \n",
    "t=triangle(a,b,c)\n",
    "print(t.area())\n"
   ]
  },
  {
   "cell_type": "markdown",
   "metadata": {},
   "source": [
    "## 1.2 Write a function filter_long_words() that takes a list of words and an integer n and returns the listof words that are longer than n."
   ]
  },
  {
   "cell_type": "code",
   "execution_count": 29,
   "metadata": {},
   "outputs": [
    {
     "name": "stdout",
     "output_type": "stream",
     "text": [
      "['filter', 'words']\n"
     ]
    }
   ],
   "source": [
    "def filter_long_words(words,n):\n",
    "    return [i for i in words if len(i)>n]\n",
    "\n",
    "print(filter_long_words([\"filter\",\"is\",\"words\"],3))"
   ]
  },
  {
   "cell_type": "markdown",
   "metadata": {},
   "source": [
    "## 2.1 Write a Python program using function concept that maps list of words into a list of integers representing the lengths of the corresponding words . Hint: If a list [ ab,cde,erty] is passed on to the python function output should come as [2,3,4]Here 2,3 and 4 are the lengths of the words in the list."
   ]
  },
  {
   "cell_type": "code",
   "execution_count": 6,
   "metadata": {},
   "outputs": [
    {
     "name": "stdout",
     "output_type": "stream",
     "text": [
      "[3, 2, 4]\n"
     ]
    }
   ],
   "source": [
    "def strlength(a):\n",
    "    w=[]\n",
    "    for i in range(len(a)):\n",
    "        w.append(len(a[i]))\n",
    "    return w\n",
    "\n",
    "print(strlength([\"abc\",\"ab\",\"abcd\"]))\n",
    "        "
   ]
  },
  {
   "cell_type": "markdown",
   "metadata": {},
   "source": [
    "## 2.2 Write a Python function which takes a character (i.e. a string of length 1) and returns True if it is a vowel, False otherwise."
   ]
  },
  {
   "cell_type": "code",
   "execution_count": 9,
   "metadata": {},
   "outputs": [
    {
     "name": "stdout",
     "output_type": "stream",
     "text": [
      "False\n",
      "True\n"
     ]
    }
   ],
   "source": [
    "def is_vowel(a):\n",
    "    vowels=\"aeiou\"\n",
    "    return a in vowels\n",
    "\n",
    "print(is_vowel(\"s\"))\n",
    "print(is_vowel(\"a\"))"
   ]
  },
  {
   "cell_type": "code",
   "execution_count": null,
   "metadata": {},
   "outputs": [],
   "source": []
  }
 ],
 "metadata": {
  "kernelspec": {
   "display_name": "Python 3",
   "language": "python",
   "name": "python3"
  },
  "language_info": {
   "codemirror_mode": {
    "name": "ipython",
    "version": 3
   },
   "file_extension": ".py",
   "mimetype": "text/x-python",
   "name": "python",
   "nbconvert_exporter": "python",
   "pygments_lexer": "ipython3",
   "version": "3.7.4"
  }
 },
 "nbformat": 4,
 "nbformat_minor": 2
}
